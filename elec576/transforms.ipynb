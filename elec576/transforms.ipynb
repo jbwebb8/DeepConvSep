{
 "cells": [
  {
   "cell_type": "code",
   "execution_count": 1,
   "metadata": {
    "collapsed": true
   },
   "outputs": [],
   "source": [
    "import numpy as np\n",
    "from scipy.signal import stft, hann, check_COLA\n",
    "from scipy.io import wavfile\n",
    "import matplotlib.pyplot as plt\n",
    "from os.path import basename, splitext, split\n",
    "from scipy.io import wavfile\n",
    "from os import listdir, walk\n",
    "import errno\n",
    "import time\n",
    "import glob"
   ]
  },
  {
   "cell_type": "markdown",
   "metadata": {},
   "source": [
    "### Pre-processing steps need to do the following:\n",
    "1. Convert data to mono. Currently we average the channels\n",
    "2. Generate spectrograms. Try STFT and wavelets"
   ]
  },
  {
   "cell_type": "code",
   "execution_count": 2,
   "metadata": {
    "collapsed": true
   },
   "outputs": [],
   "source": [
    "\"\"\"\n",
    "    This file is part of DeepConvSep.\n",
    "    Copyright (c) 2014-2017 Marius Miron  <miron.marius at gmail.com>\n",
    "    DeepConvSep is free software: you can redistribute it and/or modify\n",
    "    it under the terms of the GNU General Public License as published by\n",
    "    the Free Software Foundation, either version 3 of the License, or\n",
    "    (at your option) any later version.\n",
    "    DeepConvSep is distributed in the hope that it will be useful,\n",
    "    but WITHOUT ANY WARRANTY; without even the implied warranty of\n",
    "    MERCHANTABILITY or FITNESS FOR A PARTICULAR PURPOSE.  See the\n",
    "    GNU General Public License for more details.\n",
    "    You should have received a copy of the Affero GPL License\n",
    "    along with DeepConvSep.  If not, see <http://www.gnu.org/licenses/>.\n",
    " \"\"\"\n",
    "\n",
    "import scipy\n",
    "import numpy as np\n",
    "from scipy import io\n",
    "from collections import defaultdict\n",
    "import os\n",
    "import sys\n",
    "from os import listdir\n",
    "from os.path import isfile, join\n",
    "import itertools\n",
    "import math\n",
    "import random\n",
    "import re\n",
    "#import util\n",
    "#from util import *\n",
    "\n",
    "def sinebell(lengthWindow):\n",
    "    \"\"\"\n",
    "    window = sinebell(lengthWindow)\n",
    "    Computes a \\\"sinebell\\\" window function of length L=lengthWindow\n",
    "    The formula is:\n",
    "    .. math::\n",
    "        window(t) = sin(\\pi \\\\frac{t}{L}), t=0..L-1\n",
    "    \"\"\"\n",
    "    window = np.sin((np.pi*(np.arange(lengthWindow)))/(1.0*lengthWindow))\n",
    "    return window\n",
    "\n",
    "\n",
    "class Transforms(object):\n",
    "    \"\"\"\n",
    "    A general class which can be extended to compute features from audio (STFT,CQT)\n",
    "    Parameters\n",
    "    ----------\n",
    "    frameSize : int, optional\n",
    "        The frame size for the analysis in samples\n",
    "    hopSize : int, optional\n",
    "        The hop size for the analysis in samples\n",
    "    sampleRate : int, optional\n",
    "        The sample rate at which to read the signals\n",
    "    window : function, optional\n",
    "        The window function for the analysis\n",
    "    \"\"\"\n",
    "    def __init__(self, ttype='fft', bins=48, frameSize=1024, hopSize=256, tffmin=25, tffmax=18000, iscale = 'lin', suffix='', sampleRate=44100, window=np.hanning):\n",
    "        self.bins = bins\n",
    "        self.frameSize = frameSize\n",
    "        self.hopSize = hopSize\n",
    "        self.fmin = tffmin\n",
    "        self.fmax = tffmax\n",
    "        self.iscale = iscale\n",
    "        self.suffix=suffix\n",
    "        self.sampleRate = sampleRate\n",
    "        self.ttype = ttype\n",
    "        self.window = window(self.frameSize)\n",
    "\n",
    "    def compute_transform(self,audio, out_path=None, phase=False, save=True):\n",
    "        \"\"\"\n",
    "        Compute the features for a given set of audio signals.\n",
    "            The audio signal \\\"audio\\\" is a numpy array with the shape (t,i) - t is time and i is the id of signal\n",
    "            Depending on the variable \\\"save\\\", it can save the features to a binary file, accompanied by a shape file,\n",
    "            which is useful for loading the binary data afterwards\n",
    "        Parameters\n",
    "        ----------\n",
    "        audio : 2D numpy array\n",
    "            The array comprising the audio signals\n",
    "        out_path : string, optional\n",
    "            The path of the directory where to save the audio.\n",
    "        save : bool, optional\n",
    "            To return or to save in the out_path the computed features\n",
    "        phase : bool, optional\n",
    "            To return/save the phase\n",
    "        Yields\n",
    "        ------\n",
    "        mag : 3D numpy array\n",
    "            The features computed for each of the signals in the audio array, e.g. magnitude spectrograms\n",
    "        phs: 3D numpy array\n",
    "            The features computed for each of the signals in the audio array, e.g. phase spectrograms\n",
    "        \"\"\"\n",
    "        self.out_path = out_path\n",
    "        for i in range(audio.shape[1]):\n",
    "            if phase:\n",
    "                mag,ph=self.compute_file(audio[:,i], phase=True, sampleRate=self.sampleRate)\n",
    "            else:\n",
    "                mag=self.compute_file(audio[:,i], phase=False, sampleRate=self.sampleRate)\n",
    "            if i==0:\n",
    "                mags = np.zeros((audio.shape[1],mag.shape[0],mag.shape[1])) #This line will be used when using without phase\n",
    "                if phase:\n",
    "                    if len(ph.shape)==3:\n",
    "                        phs = np.zeros((audio.shape[1],ph.shape[0],ph.shape[1],ph.shape[2]))\n",
    "                    else:\n",
    "                        phs = np.zeros((audio.shape[1],ph.shape[0],ph.shape[1]))\n",
    "            mags[i]=mag\n",
    "            if phase:\n",
    "                phs[i]=ph\n",
    "\n",
    "        if save and self.out_path is not None:\n",
    "            self.saveTensor(mags,'_'+self.suffix+'_m_')\n",
    "            if phase:\n",
    "                self.saveTensor(phs,'_'+self.suffix+'_p_')\n",
    "            mags = None\n",
    "            phase = None\n",
    "        else:\n",
    "            if phase:\n",
    "                return mags,phs\n",
    "            else:\n",
    "                return mags\n",
    "\n",
    "    def compute_playing(self,audio, out_path):\n",
    "        \"\"\"\n",
    "        Function to compute playing/not playing labels for the audio files\n",
    "        Parameters\n",
    "        ----------\n",
    "        audio : 2D numpy array\n",
    "            The array comprising the audio signals\n",
    "        out_path : string, optional\n",
    "            The path of the directory where to save the audio.\n",
    "        \"\"\"\n",
    "        self.out_path = out_path\n",
    "        ndim=audio.shape[1]/self.sampleRate*self.hopSize\n",
    "        labels=np.zeros((ndim,audio.shape[1]))\n",
    "        for i in range(audio.shape[1]):\n",
    "            for j in range(ndim-1):\n",
    "                if abs(audio[self.hopSize*i:self.hopSize*(i+1)]).mean()>0.02:\n",
    "                    labels[j,i]=1\n",
    "        self.saveTensor(labels,'_'+self.suffix+'_l_')\n",
    "\n",
    "    def compute_file(self,audio, phase=False):\n",
    "        return None\n",
    "\n",
    "    def compute_inverse(self, mag, phase):\n",
    "        return None\n",
    "\n",
    "    def saveTensor(self, t, name='_cqt_m_'):\n",
    "        \"\"\"\n",
    "        Saves a numpy array as a binary file\n",
    "        \"\"\"\n",
    "        print(name)\n",
    "        t.tofile(self.out_path.replace('.data',name+'.data'))\n",
    "        #save shapes\n",
    "        self.shape = t.shape\n",
    "        self.save_shape(self.out_path.replace('.data',name+'.shape'),t.shape)\n",
    "\n",
    "    def loadTensor(self, name='_cqt_m_'):\n",
    "        \"\"\"\n",
    "        Loads a binary .data file\n",
    "        \"\"\"\n",
    "        f_in = np.fromfile(self.out_path.replace('.data',name+'.data'))\n",
    "        shape = self.get_shape(self.out_path.replace('.data','.shape'))\n",
    "        if self.shape == shape:\n",
    "            f_in = f_in.reshape(shape)\n",
    "            return f_in\n",
    "        else:\n",
    "            print('Shape of loaded array does not match with the original shape of the transform')\n",
    "\n",
    "    def save_shape(self,shape_file,shape):\n",
    "        \"\"\"\n",
    "        Saves the shape of a numpy array\n",
    "        \"\"\"\n",
    "        with open(shape_file, 'w') as fout:\n",
    "            fout.write(u'#'+'\\t'.join(str(e) for e in shape)+'\\n')\n",
    "\n",
    "    def get_shape(self,shape_file):\n",
    "        \"\"\"\n",
    "        Reads a .shape file\n",
    "        \"\"\"\n",
    "        with open(shape_file, 'rb') as f:\n",
    "            line=f.readline().decode('ascii')\n",
    "            if line.startswith('#'):\n",
    "                shape=tuple(map(int, re.findall(r'(\\d+)', line)))\n",
    "                return shape\n",
    "            else:\n",
    "                raise IOError('Failed to find shape in file')\n",
    "\n",
    "\n",
    "\n",
    "class transformFFT(Transforms):\n",
    "    \"\"\"\n",
    "    A class to help computing the short time Fourier transform (STFT)\n",
    "    Examples\n",
    "    --------\n",
    "    ### 1. Computing the STFT of a matrix of signals \\\"audio\\\" and writing the STFT data in \\\"path\\\" (except the phase)\n",
    "    tt1=transformFFT(frameSize=2048, hopSize=512, sampleRate=44100)\n",
    "    tt1.compute_transform(audio,out_path=path, phase=False)\n",
    "    ### 2. Computing the STFT of a single signal \\\"audio\\\" and returning the magnitude and phase\n",
    "    tt1=transformFFT(frameSize=2048, hopSize=512, sampleRate=44100)\n",
    "    mag,ph = tt1.compute_file(audio,phase=True)\n",
    "    ### 3. Computing the inverse STFT using the magnitude and phase and returning the audio data\n",
    "    #we use the tt1 from 2.\n",
    "    audio = tt1.compute_inverse(mag,phase)\n",
    "    \"\"\"\n",
    "\n",
    "    def __init__(self, ttype='fft', bins=48, frameSize=1024, hopSize=256, tffmin=25, tffmax=18000, iscale = 'lin', suffix='', sampleRate=44100, window=np.hanning):\n",
    "        super(transformFFT, self).__init__(ttype='fft', bins=bins, frameSize=frameSize, hopSize=hopSize, tffmin=tffmin, tffmax=tffmax, iscale = iscale, suffix=suffix, sampleRate=sampleRate, window=window)\n",
    "\n",
    "    def compute_file(self,audio, phase=False, sampleRate=44100):\n",
    "        \"\"\"\n",
    "        Compute the STFT for a single audio signal\n",
    "        Parameters\n",
    "        ----------\n",
    "        audio : 1D numpy array\n",
    "            The array comprising the audio signals\n",
    "        phase : bool, optional\n",
    "            To return the phase\n",
    "        sampleRate : int, optional\n",
    "            The sample rate at which to read the signals\n",
    "        Yields\n",
    "        ------\n",
    "        mag : 3D numpy array\n",
    "            The features computed for each of the signals in the audio array, e.g. magnitude spectrograms\n",
    "        phs: 3D numpy array\n",
    "            The features computed for each of the signals in the audio array, e.g. phase spectrograms\n",
    "        \"\"\"\n",
    "        X = stft_norm(audio, window=self.window, hopsize=float(self.hopSize), nfft=float(self.frameSize), fs=float(sampleRate))\n",
    "        mag = np.abs(X)\n",
    "        mag = mag  / np.sqrt(self.frameSize) #normalization\n",
    "        if phase:\n",
    "            ph = np.angle(X)\n",
    "            X = None\n",
    "            return mag,ph\n",
    "        else:\n",
    "            X = None\n",
    "            return mag\n",
    "\n",
    "    def compute_inverse(self, mag, phase, sampleRate=44100):\n",
    "        \"\"\"\n",
    "        Compute the inverse STFT for a given magnitude and phase\n",
    "        Parameters\n",
    "        ----------\n",
    "        mag : 3D numpy array\n",
    "            The features computed for each of the signals in the audio array, e.g. magnitude spectrograms\n",
    "        phs: 3D numpy array\n",
    "            The features computed for each of the signals in the audio array, e.g. phase spectrograms\n",
    "        sampleRate : int, optional\n",
    "            The sample rate at which to read the signals\n",
    "        Yields\n",
    "        ------\n",
    "        audio : 1D numpy array\n",
    "            The array comprising the audio signals\n",
    "        \"\"\"\n",
    "        mag = mag  * np.sqrt(self.frameSize) #normalization\n",
    "        Xback = mag * np.exp(1j*phase)\n",
    "        data = istft_norm(Xback, window=self.window, analysisWindow=self.window, hopsize=float(self.hopSize), nfft=float(self.frameSize))\n",
    "        return data\n",
    "\n",
    "def ispowerof2(number):\n",
    "    if not isinstance(number, int):\n",
    "        raise ValueError(\"This function does not compute for\",\n",
    "                         \"non-integral values\")\n",
    "    # Handle special cases first:\n",
    "    if number == 0:\n",
    "        return False\n",
    "    if number == 1:\n",
    "        return True\n",
    "\n",
    "    divisor, rem = divmod(number, 2)\n",
    "    if rem:\n",
    "        return False\n",
    "    elif divisor > 1:\n",
    "        return ispowerof2(divisor)\n",
    "    # No remainder and divisor must equal 1 (special cases of 0 and 1\n",
    "    # where the divisor would be < 1 already handled), so the number\n",
    "    # is a power of 2\n",
    "    else:\n",
    "        return True\n",
    "\n",
    "def stft_norm(data, window=np.hanning(2048),\n",
    "         hopsize=256.0, nfft=2048.0, fs=44100.0):\n",
    "    \"\"\"\n",
    "    Computes the short time Fourier transform (STFT) of data.\n",
    "    Inputs:\n",
    "        data:\n",
    "            one-dimensional time-series to be analyzed\n",
    "        window:\n",
    "            analysis window\n",
    "            Default is a Hann (Hanning) window 2048 samples long\n",
    "        hopsize:\n",
    "            hopsize for the analysis\n",
    "            Default is 256\n",
    "        nfft:\n",
    "            number of points for the Fourier computation\n",
    "            (the user should provide a number that is a power of 2)\n",
    "            Default is 2048\n",
    "        fs:\n",
    "            Sampling rate of the signal\n",
    "            Default is 44100 Hz\n",
    "    Outputs:\n",
    "        X:\n",
    "            STFT (numberFrames, numberFrequencies) of data\n",
    "    \"\"\"\n",
    "    \n",
    "    if not ispowerof2(int(nfft)):\n",
    "        print(\"Warning: nfft is not a power of 2. FFT computation time will likely not be optimal\")\n",
    "    \n",
    "    lengthData = data.size\n",
    "    \n",
    "    # window defines the size of the analysis windows\n",
    "    lengthWindow = window.size\n",
    "    nFrontPad = 0\n",
    "    # amount of front padding changes depending on whether\n",
    "    # window length is even or odd\n",
    "    if lengthWindow % 2:\n",
    "        nFrontPad = int((lengthWindow - 1) / 2.0)\n",
    "    else:\n",
    "        nFrontPad = int(lengthWindow / 2.0)\n",
    "\n",
    "    # should be the number of frames by YAAFE:\n",
    "    numberFrames = int(np.ceil(lengthData / np.double(hopsize)) + 2)\n",
    "    # to ensure that the data array is big enough,\n",
    "    # assuming the first frame is centered on first sample:\n",
    "    newLengthData = int((numberFrames-1) * hopsize + lengthWindow)\n",
    "\n",
    "    # !!! zero-pad start of data. The first window is\n",
    "    # centered on the first sample of data\n",
    "    data = np.concatenate((np.zeros(nFrontPad), data))\n",
    "\n",
    "    # zero-pad end of data such that it holds an exact number of frames\n",
    "    data = np.concatenate((data, np.zeros(newLengthData - data.size)))\n",
    "\n",
    "    # the output STFT has nfft/2+1 rows. Note that nfft has to be an even\n",
    "    # number (and a power of 2 for the fft to be fast)\n",
    "    numberFrequencies = int(nfft / 2 + 1)\n",
    "\n",
    "    STFT = np.zeros([numberFrequencies, numberFrames], dtype=complex)\n",
    "    plt.plot(window)\n",
    "\n",
    "    # storing FT of each frame in STFT:\n",
    "    for n in np.arange(numberFrames):\n",
    "        beginFrame = int(n*hopsize)\n",
    "        endFrame = beginFrame+lengthWindow\n",
    "        frameToProcess = window*data[beginFrame:endFrame]\n",
    "        STFT[:,n] = np.fft.rfft(frameToProcess, np.int32(nfft))\n",
    "        frameToProcess = None\n",
    "\n",
    "    # returned STFT has shape (numberFrames by numberFrequencies)\n",
    "    return STFT.T\n",
    "\n",
    "def istft_norm(X, window=np.hanning(2048),\n",
    "          analysisWindow=None,\n",
    "          hopsize=256.0, nfft=2048.0):\n",
    "    \"\"\"\n",
    "    Computes an inverse of the short time Fourier transform (STFT),\n",
    "    here, the overlap-add procedure is implemented.\n",
    "    Inputs:\n",
    "        X:\n",
    "            STFT of the signal, to be inverted\n",
    "        window:\n",
    "            synthesis window\n",
    "            (should be the complementary window\n",
    "            for the analysis window)\n",
    "            Default is a Hann (Hanning) window 2048 samples long\n",
    "        hopsize:\n",
    "            hopsize for the analysis\n",
    "            Default is 256\n",
    "        nfft:\n",
    "            number of points for the Fourier computation\n",
    "            (the user has to provide an even number)\n",
    "            Default is 2048\n",
    "    Outputs:\n",
    "        data:\n",
    "            Time series corresponding to the given STFT.\n",
    "            The first half-window is removed, complying\n",
    "            with the STFT computation given in the\n",
    "            function stft\n",
    "    \"\"\"\n",
    "    X=X.T\n",
    "    if analysisWindow is None:\n",
    "        analysisWindow = window\n",
    "\n",
    "    lengthWindow = np.array(window.size)\n",
    "    numberFrequencies, numberFrames = X.shape\n",
    "    lengthData = int(hopsize*(numberFrames-1) + lengthWindow)\n",
    "\n",
    "    normalisationSeq = np.zeros(lengthData)\n",
    "\n",
    "    data = np.zeros(lengthData)\n",
    "\n",
    "    for n in np.arange(numberFrames):\n",
    "        beginFrame = int(n * hopsize)\n",
    "        endFrame = beginFrame + lengthWindow\n",
    "        frameTMP = np.fft.irfft(X[:,n], np.int32(nfft))\n",
    "        frameTMP = frameTMP[:lengthWindow]\n",
    "        normalisationSeq[beginFrame:endFrame] = (\n",
    "            normalisationSeq[beginFrame:endFrame] +\n",
    "            window * analysisWindow)\n",
    "        data[beginFrame:endFrame] = (\n",
    "            data[beginFrame:endFrame] + window * frameTMP)\n",
    "\n",
    "    data = data[int(lengthWindow/2.0):]\n",
    "    normalisationSeq = normalisationSeq[int(lengthWindow/2.0):]\n",
    "    normalisationSeq[normalisationSeq==0] = 1.\n",
    "\n",
    "    data = data / normalisationSeq\n",
    "\n",
    "    return data"
   ]
  },
  {
   "cell_type": "code",
   "execution_count": 3,
   "metadata": {
    "collapsed": true
   },
   "outputs": [],
   "source": [
    "def make_directory(f):\n",
    "    \"\"\"Makes directory if does not already exist\"\"\"\n",
    "    try:\n",
    "        os.makedirs(f)\n",
    "    except OSError as exception:\n",
    "        if exception.errno != errno.EEXIST:\n",
    "            raise"
   ]
  },
  {
   "cell_type": "code",
   "execution_count": null,
   "metadata": {
    "scrolled": true
   },
   "outputs": [
    {
     "name": "stdout",
     "output_type": "stream",
     "text": [
      "Processed 1 out of 200 files\n",
      "Processed 2 out of 200 files\n"
     ]
    }
   ],
   "source": [
    "start = time.time()\n",
    "base_dir = '/media/jchu/DataStorage/DSD100/Sources/Dev/'\n",
    "target_dir = '/media/jchu/DataStorage/DSD100/train/'\n",
    "file_list = glob.glob(base_dir + '*/*wav')\n",
    "file_list = sorted(file_list)\n",
    "verbose = True\n",
    "\n",
    "make_directory(target_dir)\n",
    "for ii, file in enumerate(file_list):\n",
    "    stem, filename = split(file)\n",
    "    base, _ = splitext(filename)\n",
    "    split_stem = stem.split(' ')\n",
    "    _, song_num = split(split_stem[0])\n",
    "\n",
    "    fs, audio = wavfile.read(file)\n",
    "    maxval = np.iinfo(audio.dtype).max\n",
    "\n",
    "    # Average if stereo recording\n",
    "    if audio.shape[1] == 2:\n",
    "        audio = (audio[:, 0] + audio[:, 1]) / 2.0\n",
    "\n",
    "    # Generate spectrograms and dump to disk\n",
    "    # Normalize input data\n",
    "    spec = stft_norm(data=audio / maxval, fs=fs)\n",
    "    magnitude = np.abs(spec)\n",
    "    phase = np.angle(spec)\n",
    "    outfile1 = join(target_dir, song_num + '-' + base + '.mag')\n",
    "    outfile2 = join(target_dir, song_num + '-' + base + '.phase')\n",
    "    np.save(outfile1, magnitude)\n",
    "    np.save(outfile2, phase)\n",
    "    \n",
    "    del audio\n",
    "    del spec\n",
    "    \n",
    "    if verbose:\n",
    "        print(\"Processed {} out of {} files\".format(ii+1, len(file_list)))\n",
    "print(\"Elapsed time: {} minutes\".format((time.time() - start)/60))"
   ]
  },
  {
   "cell_type": "markdown",
   "metadata": {},
   "source": [
    "## Testing -- ignore everything below!"
   ]
  },
  {
   "cell_type": "code",
   "execution_count": 1,
   "metadata": {
    "collapsed": true
   },
   "outputs": [],
   "source": [
    "import numpy as np\n",
    "from scipy import signal\n",
    "import matplotlib.pyplot as plt\n",
    "\n",
    "fs = 10e3\n",
    "N = 1e5\n",
    "amp = 2 * np.sqrt(2)\n",
    "noise_power = 0.01 * fs / 2\n",
    "time = np.arange(N) / float(fs)\n",
    "mod = 500*np.cos(2*np.pi*0.25*time)\n",
    "carrier = amp * np.sin(2*np.pi*3e3*time + mod)\n",
    "noise = np.random.normal(scale=np.sqrt(noise_power),\n",
    "                          size=time.shape)\n",
    "noise *= np.exp(-time/5)\n",
    "\n",
    "x = carrier + noise"
   ]
  },
  {
   "cell_type": "code",
   "execution_count": 101,
   "metadata": {},
   "outputs": [
    {
     "data": {
      "image/png": "[encoded data removed]",
      "text/plain": [
       "<matplotlib.figure.Figure at 0x7f894d11eba8>"
      ]
     },
     "metadata": {},
     "output_type": "display_data"
    }
   ],
   "source": [
    "f, t, Zxx = signal.stft(x, fs, nperseg=1000)\n",
    "plt.pcolormesh(t, f, np.abs(Zxx), vmin=0, vmax=amp)\n",
    "plt.title('STFT Magnitude')\n",
    "plt.ylabel('Frequency [Hz]')\n",
    "plt.xlabel('Time [sec]')\n",
    "plt.show()"
   ]
  },
  {
   "cell_type": "code",
   "execution_count": 3,
   "metadata": {
    "scrolled": true
   },
   "outputs": [
    {
     "data": {
      "text/plain": [
       "(100000,)"
      ]
     },
     "execution_count": 3,
     "metadata": {},
     "output_type": "execute_result"
    }
   ],
   "source": [
    "x.shape"
   ]
  },
  {
   "cell_type": "code",
   "execution_count": 103,
   "metadata": {
    "collapsed": true
   },
   "outputs": [],
   "source": [
    "t, y = signal.istft(Zxx, fs)"
   ]
  },
  {
   "cell_type": "code",
   "execution_count": 104,
   "metadata": {},
   "outputs": [
    {
     "data": {
      "text/plain": [
       "(100000,)"
      ]
     },
     "execution_count": 104,
     "metadata": {},
     "output_type": "execute_result"
    }
   ],
   "source": [
    "y.shape"
   ]
  },
  {
   "cell_type": "code",
   "execution_count": 92,
   "metadata": {},
   "outputs": [
    {
     "data": {
      "text/plain": [
       "(501,)"
      ]
     },
     "execution_count": 92,
     "metadata": {},
     "output_type": "execute_result"
    }
   ],
   "source": [
    "f.shape"
   ]
  },
  {
   "cell_type": "code",
   "execution_count": 19,
   "metadata": {
    "collapsed": true
   },
   "outputs": [],
   "source": [
    "mag = np.abs(Zxx)\n",
    "phase = np.angle(Zxx)\n",
    "respec = mag*np.exp(1j*phase)"
   ]
  },
  {
   "cell_type": "code",
   "execution_count": 22,
   "metadata": {},
   "outputs": [
    {
     "data": {
      "text/plain": [
       "dtype('complex128')"
      ]
     },
     "execution_count": 22,
     "metadata": {},
     "output_type": "execute_result"
    }
   ],
   "source": [
    "respec.dtype"
   ]
  },
  {
   "cell_type": "code",
   "execution_count": 23,
   "metadata": {
    "collapsed": true
   },
   "outputs": [],
   "source": [
    "t, y = signal.istft(respec, fs, nperseg=1000)"
   ]
  },
  {
   "cell_type": "code",
   "execution_count": 24,
   "metadata": {},
   "outputs": [
    {
     "data": {
      "text/plain": [
       "(100000,)"
      ]
     },
     "execution_count": 24,
     "metadata": {},
     "output_type": "execute_result"
    }
   ],
   "source": [
    "y.shape"
   ]
  },
  {
   "cell_type": "code",
   "execution_count": 25,
   "metadata": {},
   "outputs": [
    {
     "data": {
      "text/plain": [
       "True"
      ]
     },
     "execution_count": 25,
     "metadata": {},
     "output_type": "execute_result"
    }
   ],
   "source": [
    "np.allclose(x, y)"
   ]
  },
  {
   "cell_type": "code",
   "execution_count": 105,
   "metadata": {},
   "outputs": [
    {
     "data": {
      "image/png": "[encoded data removed]",
      "text/plain": [
       "<matplotlib.figure.Figure at 0x7f8956e87390>"
      ]
     },
     "metadata": {},
     "output_type": "display_data"
    }
   ],
   "source": [
    "filename = '/home/jchu/data/DSD100/Mixtures/Dev/070 - James May - All Souls Moon/mixture.wav'\n",
    "fs, data = wavfile.read(filename)\n",
    "plt.plot(data[:, 0])\n",
    "plt.plot(data[:, 1])\n",
    "plt.show()"
   ]
  },
  {
   "cell_type": "code",
   "execution_count": 79,
   "metadata": {},
   "outputs": [
    {
     "data": {
      "text/plain": [
       "(9748069, 2)"
      ]
     },
     "execution_count": 79,
     "metadata": {},
     "output_type": "execute_result"
    }
   ],
   "source": [
    "data.shape"
   ]
  },
  {
   "cell_type": "code",
   "execution_count": 139,
   "metadata": {
    "collapsed": true
   },
   "outputs": [],
   "source": [
    "f, t, spec = stft(data[:, 0], fs=fs, nperseg=1024, noverlap=256)\n",
    "#check_COLA(window='hann', nperseg=1024, noverlap=256)"
   ]
  },
  {
   "cell_type": "code",
   "execution_count": 140,
   "metadata": {},
   "outputs": [
    {
     "data": {
      "text/plain": [
       "(9748069, 2)"
      ]
     },
     "execution_count": 140,
     "metadata": {},
     "output_type": "execute_result"
    }
   ],
   "source": [
    "data.shape"
   ]
  },
  {
   "cell_type": "code",
   "execution_count": 141,
   "metadata": {},
   "outputs": [
    {
     "data": {
      "text/plain": [
       "(513, 12694)"
      ]
     },
     "execution_count": 141,
     "metadata": {},
     "output_type": "execute_result"
    }
   ],
   "source": [
    "spec.shape"
   ]
  },
  {
   "cell_type": "code",
   "execution_count": 142,
   "metadata": {},
   "outputs": [
    {
     "data": {
      "text/plain": [
       "44100"
      ]
     },
     "execution_count": 142,
     "metadata": {},
     "output_type": "execute_result"
    }
   ],
   "source": [
    "fs"
   ]
  },
  {
   "cell_type": "code",
   "execution_count": 143,
   "metadata": {
    "collapsed": true
   },
   "outputs": [],
   "source": [
    "t, y = signal.istft(spec, fs, nfft=1024)"
   ]
  },
  {
   "cell_type": "code",
   "execution_count": 198,
   "metadata": {},
   "outputs": [
    {
     "name": "stdout",
     "output_type": "stream",
     "text": [
      "0.0\n",
      "4\n"
     ]
    }
   ],
   "source": [
    "testdata = np.arange(12) + 1\n",
    "length = 12\n",
    "nperseg = 8\n",
    "noverlap = 3\n",
    "# padding both ends\n",
    "n_pad_end = (nperseg/2*2 + len(testdata)) % (nperseg - noverlap)\n",
    "print(n_pad_end)\n",
    "print(int(nperseg/2))\n",
    "testpadded = np.pad(testdata, (int(nperseg/2), int(nperseg/2+n_pad_end)), mode='constant')"
   ]
  },
  {
   "cell_type": "code",
   "execution_count": 199,
   "metadata": {},
   "outputs": [
    {
     "data": {
      "text/plain": [
       "array([ 0,  0,  0,  0,  1,  2,  3,  4,  5,  6,  7,  8,  9, 10, 11, 12,  0,\n",
       "        0,  0,  0])"
      ]
     },
     "execution_count": 199,
     "metadata": {},
     "output_type": "execute_result"
    }
   ],
   "source": [
    "testpadded"
   ]
  },
  {
   "cell_type": "code",
   "execution_count": 197,
   "metadata": {},
   "outputs": [
    {
     "data": {
      "text/plain": [
       "19"
      ]
     },
     "execution_count": 197,
     "metadata": {},
     "output_type": "execute_result"
    }
   ],
   "source": [
    "len(testpadded)"
   ]
  },
  {
   "cell_type": "code",
   "execution_count": 194,
   "metadata": {},
   "outputs": [
    {
     "data": {
      "text/plain": [
       "5.333333333333333"
      ]
     },
     "execution_count": 194,
     "metadata": {},
     "output_type": "execute_result"
    }
   ],
   "source": [
    "len(testpadded) / (nperseg-noverlap)"
   ]
  },
  {
   "cell_type": "code",
   "execution_count": 150,
   "metadata": {},
   "outputs": [
    {
     "name": "stdout",
     "output_type": "stream",
     "text": [
      "101.0\n"
     ]
    }
   ],
   "source": [
    "nperseg = 1024\n",
    "noverlap = 256\n",
    "n_add_pad = (nperseg/2*2 + len(data[:, 0])) % (nperseg - noverlap)\n",
    "print(n_add_pad)"
   ]
  },
  {
   "cell_type": "code",
   "execution_count": 154,
   "metadata": {
    "collapsed": true
   },
   "outputs": [],
   "source": [
    "padded = np.pad(data[:, 0], (int(nperseg/2), int(nperseg/2+n_add_pad)), mode='constant')"
   ]
  },
  {
   "cell_type": "code",
   "execution_count": 156,
   "metadata": {},
   "outputs": [
    {
     "data": {
      "text/plain": [
       "9748069"
      ]
     },
     "execution_count": 156,
     "metadata": {},
     "output_type": "execute_result"
    }
   ],
   "source": [
    "len(data[:, 0])"
   ]
  },
  {
   "cell_type": "code",
   "execution_count": 157,
   "metadata": {},
   "outputs": [
    {
     "data": {
      "text/plain": [
       "12694.263020833334"
      ]
     },
     "execution_count": 157,
     "metadata": {},
     "output_type": "execute_result"
    }
   ],
   "source": [
    "len(padded)/(nperseg - noverlap)"
   ]
  },
  {
   "cell_type": "code",
   "execution_count": 145,
   "metadata": {},
   "outputs": [
    {
     "data": {
      "text/plain": [
       "357"
      ]
     },
     "execution_count": 145,
     "metadata": {},
     "output_type": "execute_result"
    }
   ],
   "source": [
    "(len(data[:, 0]) - 1024) % (1024 - 256)"
   ]
  },
  {
   "cell_type": "code",
   "execution_count": 224,
   "metadata": {},
   "outputs": [
    {
     "data": {
      "text/plain": [
       "False"
      ]
     },
     "execution_count": 224,
     "metadata": {},
     "output_type": "execute_result"
    }
   ],
   "source": [
    "ch1 = data[:, 0]\n",
    "check_COLA(window=hann(1024), nperseg=1024, noverlap=768)\n",
    "#f, t, Zxx = signal.stft(ch1, 44100, nperseg=1024, noverlap=256, window='hann')"
   ]
  },
  {
   "cell_type": "code",
   "execution_count": 211,
   "metadata": {},
   "outputs": [
    {
     "data": {
      "text/plain": [
       "(9748069,)"
      ]
     },
     "execution_count": 211,
     "metadata": {},
     "output_type": "execute_result"
    }
   ],
   "source": [
    "ch1.shape"
   ]
  },
  {
   "cell_type": "code",
   "execution_count": 18,
   "metadata": {},
   "outputs": [
    {
     "ename": "NameError",
     "evalue": "name 'signal' is not defined",
     "output_type": "error",
     "traceback": [
      "\u001b[0;31m---------------------------------------------------------------------------\u001b[0m",
      "\u001b[0;31mNameError\u001b[0m                                 Traceback (most recent call last)",
      "\u001b[0;32m<ipython-input-18-1d736c500475>\u001b[0m in \u001b[0;36m<module>\u001b[0;34m()\u001b[0m\n\u001b[1;32m      1\u001b[0m \u001b[0;31m# Why does this\u001b[0m\u001b[0;34m\u001b[0m\u001b[0;34m\u001b[0m\u001b[0m\n\u001b[0;32m----> 2\u001b[0;31m \u001b[0mt\u001b[0m\u001b[0;34m,\u001b[0m \u001b[0my\u001b[0m \u001b[0;34m=\u001b[0m \u001b[0msignal\u001b[0m\u001b[0;34m.\u001b[0m\u001b[0mistft\u001b[0m\u001b[0;34m(\u001b[0m\u001b[0mZxx\u001b[0m\u001b[0;34m,\u001b[0m \u001b[0mfs\u001b[0m\u001b[0;34m=\u001b[0m\u001b[0;36m44100\u001b[0m\u001b[0;34m,\u001b[0m \u001b[0mnperseg\u001b[0m\u001b[0;34m=\u001b[0m\u001b[0;36m1024\u001b[0m\u001b[0;34m,\u001b[0m \u001b[0mnoverlap\u001b[0m\u001b[0;34m=\u001b[0m\u001b[0;36m256\u001b[0m\u001b[0;34m,\u001b[0m \u001b[0mwindow\u001b[0m\u001b[0;34m=\u001b[0m\u001b[0;34m'hann'\u001b[0m\u001b[0;34m)\u001b[0m\u001b[0;34m\u001b[0m\u001b[0m\n\u001b[0m",
      "\u001b[0;31mNameError\u001b[0m: name 'signal' is not defined"
     ]
    }
   ],
   "source": [
    "# Can't reconstruct signal with the same settings used to generate the STFT -- WHY???\n",
    "t, y = signal.istft(Zxx, fs=44100, nperseg=1024, noverlap=256, window='hann')"
   ]
  },
  {
   "cell_type": "code",
   "execution_count": 24,
   "metadata": {},
   "outputs": [],
   "source": [
    "spec = np.load('/media/jchu/DataStorage/DSD100/test/001-mixture.pkl', 'rb')"
   ]
  },
  {
   "cell_type": "code",
   "execution_count": 25,
   "metadata": {},
   "outputs": [
    {
     "data": {
      "text/plain": [
       "(41010, 1025)"
      ]
     },
     "execution_count": 25,
     "metadata": {},
     "output_type": "execute_result"
    }
   ],
   "source": [
    "spec.shape"
   ]
  },
  {
   "cell_type": "code",
   "execution_count": null,
   "metadata": {
    "collapsed": true
   },
   "outputs": [],
   "source": []
  }
 ],
 "metadata": {
  "kernelspec": {
   "display_name": "Python [conda env:tensorflow]",
   "language": "python",
   "name": "conda-env-tensorflow-py"
  },
  "language_info": {
   "codemirror_mode": {
    "name": "ipython",
    "version": 3
   },
   "file_extension": ".py",
   "mimetype": "text/x-python",
   "name": "python",
   "nbconvert_exporter": "python",
   "pygments_lexer": "ipython3",
   "version": "3.6.2"
  }
 },
 "nbformat": 4,
 "nbformat_minor": 2
}
